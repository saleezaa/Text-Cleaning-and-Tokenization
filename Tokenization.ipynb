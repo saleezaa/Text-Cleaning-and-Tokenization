{
  "nbformat": 4,
  "nbformat_minor": 0,
  "metadata": {
    "colab": {
      "provenance": []
    },
    "kernelspec": {
      "name": "python3",
      "display_name": "Python 3"
    },
    "language_info": {
      "name": "python"
    }
  },
  "cells": [
    {
      "cell_type": "code",
      "execution_count": 2,
      "metadata": {
        "id": "bsBYPagQ18qp"
      },
      "outputs": [],
      "source": [
        "import re\n",
        "from collections import Counter"
      ]
    },
    {
      "cell_type": "code",
      "source": [
        "text = \"\"\"Artificial Intelligence is transforming the world rapidly.\n",
        "OpenAI develops innovative technologies that help humans achieve more.\n",
        "In 2025, new AI tools have made learning easier and faster.\n",
        "Engineers and researchers collaborate daily to improve these models.\n",
        "Understanding how AI evolves is essential for a smarter future.\"\"\""
      ],
      "metadata": {
        "id": "khPGV-lz3vxy"
      },
      "execution_count": 3,
      "outputs": []
    },
    {
      "cell_type": "code",
      "source": [
        "#remove all punctuation and digits using regex\n",
        "\n",
        "clean_text = re.sub(r'[^A-Za-z\\s]', '', text)"
      ],
      "metadata": {
        "id": "klYXk2uu3y90"
      },
      "execution_count": 8,
      "outputs": []
    },
    {
      "cell_type": "code",
      "source": [
        "#convert the text to lowercase\n",
        "\n",
        "clean_text = clean_text.lower()\n",
        "\n",
        "print(\"Cleaned and Lowercase text:\\n\")\n",
        "print(clean_text)"
      ],
      "metadata": {
        "colab": {
          "base_uri": "https://localhost:8080/"
        },
        "id": "JmOUpsx14RN4",
        "outputId": "b22ac3fe-d7c6-43f0-98bb-b1ef22b3e080"
      },
      "execution_count": 10,
      "outputs": [
        {
          "output_type": "stream",
          "name": "stdout",
          "text": [
            "Cleaned and Lowercase text:\n",
            "\n",
            "artificial intelligence is transforming the world rapidly\n",
            "openai develops innovative technologies that help humans achieve more\n",
            "in  new ai tools have made learning easier and faster\n",
            "engineers and researchers collaborate daily to improve these models\n",
            "understanding how ai evolves is essential for a smarter future\n"
          ]
        }
      ]
    },
    {
      "cell_type": "code",
      "source": [
        "#tokenize into words\n",
        "\n",
        "tokens = clean_text.split()\n",
        "\n",
        "print(\"Tokenized Words:\\n\")\n",
        "print(tokens)"
      ],
      "metadata": {
        "colab": {
          "base_uri": "https://localhost:8080/"
        },
        "id": "Pm90rWF_4ijE",
        "outputId": "329f26fb-d056-4508-f857-dac09e294936"
      },
      "execution_count": 12,
      "outputs": [
        {
          "output_type": "stream",
          "name": "stdout",
          "text": [
            "Tokenized Words:\n",
            "\n",
            "['artificial', 'intelligence', 'is', 'transforming', 'the', 'world', 'rapidly', 'openai', 'develops', 'innovative', 'technologies', 'that', 'help', 'humans', 'achieve', 'more', 'in', 'new', 'ai', 'tools', 'have', 'made', 'learning', 'easier', 'and', 'faster', 'engineers', 'and', 'researchers', 'collaborate', 'daily', 'to', 'improve', 'these', 'models', 'understanding', 'how', 'ai', 'evolves', 'is', 'essential', 'for', 'a', 'smarter', 'future']\n"
          ]
        }
      ]
    },
    {
      "cell_type": "code",
      "source": [
        "#count and display the frequency of each word\n",
        "\n",
        "word_freq = Counter(tokens)\n",
        "print(\"Word Frequency:\\n\")\n",
        "\n",
        "for word, freq in word_freq.items():\n",
        "  print(f\"{word}: {freq}\")"
      ],
      "metadata": {
        "colab": {
          "base_uri": "https://localhost:8080/"
        },
        "id": "X0ZApCvF5GfT",
        "outputId": "f97af634-32c4-4a34-ad8a-bffb4597fa31"
      },
      "execution_count": 14,
      "outputs": [
        {
          "output_type": "stream",
          "name": "stdout",
          "text": [
            "Word Frequency:\n",
            "\n",
            "artificial: 1\n",
            "intelligence: 1\n",
            "is: 2\n",
            "transforming: 1\n",
            "the: 1\n",
            "world: 1\n",
            "rapidly: 1\n",
            "openai: 1\n",
            "develops: 1\n",
            "innovative: 1\n",
            "technologies: 1\n",
            "that: 1\n",
            "help: 1\n",
            "humans: 1\n",
            "achieve: 1\n",
            "more: 1\n",
            "in: 1\n",
            "new: 1\n",
            "ai: 2\n",
            "tools: 1\n",
            "have: 1\n",
            "made: 1\n",
            "learning: 1\n",
            "easier: 1\n",
            "and: 2\n",
            "faster: 1\n",
            "engineers: 1\n",
            "researchers: 1\n",
            "collaborate: 1\n",
            "daily: 1\n",
            "to: 1\n",
            "improve: 1\n",
            "these: 1\n",
            "models: 1\n",
            "understanding: 1\n",
            "how: 1\n",
            "evolves: 1\n",
            "essential: 1\n",
            "for: 1\n",
            "a: 1\n",
            "smarter: 1\n",
            "future: 1\n"
          ]
        }
      ]
    },
    {
      "cell_type": "code",
      "source": [
        "#extracting all words starting with vowels\n",
        "\n",
        "vowel_words = re.findall(r'\\b[aeiou]\\w*', clean_text)\n",
        "\n",
        "print(\"Words Starting with Vowels:\\n\")\n",
        "print(vowel_words)"
      ],
      "metadata": {
        "colab": {
          "base_uri": "https://localhost:8080/"
        },
        "id": "TbIzRGNY56xr",
        "outputId": "8184bc2f-1bdb-47b3-a1b6-4751afb3d3b1"
      },
      "execution_count": 16,
      "outputs": [
        {
          "output_type": "stream",
          "name": "stdout",
          "text": [
            "Words Starting with Vowels:\n",
            "\n",
            "['artificial', 'intelligence', 'is', 'openai', 'innovative', 'achieve', 'in', 'ai', 'easier', 'and', 'engineers', 'and', 'improve', 'understanding', 'ai', 'evolves', 'is', 'essential', 'a']\n"
          ]
        }
      ]
    }
  ]
}